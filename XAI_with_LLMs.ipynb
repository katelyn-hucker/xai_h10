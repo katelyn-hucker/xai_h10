{
  "nbformat": 4,
  "nbformat_minor": 0,
  "metadata": {
    "colab": {
      "provenance": [],
      "authorship_tag": "ABX9TyOPjqWHCvNoN3JojQMTCxG8",
      "include_colab_link": true
    },
    "kernelspec": {
      "name": "python3",
      "display_name": "Python 3"
    },
    "language_info": {
      "name": "python"
    },
    "widgets": {
      "application/vnd.jupyter.widget-state+json": {
        "6080776aaa854272a2636b1016f1e031": {
          "model_module": "@jupyter-widgets/controls",
          "model_name": "HBoxModel",
          "model_module_version": "1.5.0",
          "state": {
            "_dom_classes": [],
            "_model_module": "@jupyter-widgets/controls",
            "_model_module_version": "1.5.0",
            "_model_name": "HBoxModel",
            "_view_count": null,
            "_view_module": "@jupyter-widgets/controls",
            "_view_module_version": "1.5.0",
            "_view_name": "HBoxView",
            "box_style": "",
            "children": [
              "IPY_MODEL_5917d497a6f64861be13cce6625367aa",
              "IPY_MODEL_8a23e7e5812c4043b4049f36f6dc7818",
              "IPY_MODEL_97d9abc93b934d9ebe0a3c82c4cd6a85"
            ],
            "layout": "IPY_MODEL_caa3a04dac5547108d2fe7168c3b1c41"
          }
        },
        "5917d497a6f64861be13cce6625367aa": {
          "model_module": "@jupyter-widgets/controls",
          "model_name": "HTMLModel",
          "model_module_version": "1.5.0",
          "state": {
            "_dom_classes": [],
            "_model_module": "@jupyter-widgets/controls",
            "_model_module_version": "1.5.0",
            "_model_name": "HTMLModel",
            "_view_count": null,
            "_view_module": "@jupyter-widgets/controls",
            "_view_module_version": "1.5.0",
            "_view_name": "HTMLView",
            "description": "",
            "description_tooltip": null,
            "layout": "IPY_MODEL_f3bc1e1a85044cf69192234abb4d8318",
            "placeholder": "​",
            "style": "IPY_MODEL_df40ff7333e74f3babafd2d04f86b1f9",
            "value": "tokenizer_config.json: 100%"
          }
        },
        "8a23e7e5812c4043b4049f36f6dc7818": {
          "model_module": "@jupyter-widgets/controls",
          "model_name": "FloatProgressModel",
          "model_module_version": "1.5.0",
          "state": {
            "_dom_classes": [],
            "_model_module": "@jupyter-widgets/controls",
            "_model_module_version": "1.5.0",
            "_model_name": "FloatProgressModel",
            "_view_count": null,
            "_view_module": "@jupyter-widgets/controls",
            "_view_module_version": "1.5.0",
            "_view_name": "ProgressView",
            "bar_style": "success",
            "description": "",
            "description_tooltip": null,
            "layout": "IPY_MODEL_681b3784cf654a98912a0e6d19457c23",
            "max": 1339,
            "min": 0,
            "orientation": "horizontal",
            "style": "IPY_MODEL_3d03f51db18248e2af5d1bf3baf1eede",
            "value": 1339
          }
        },
        "97d9abc93b934d9ebe0a3c82c4cd6a85": {
          "model_module": "@jupyter-widgets/controls",
          "model_name": "HTMLModel",
          "model_module_version": "1.5.0",
          "state": {
            "_dom_classes": [],
            "_model_module": "@jupyter-widgets/controls",
            "_model_module_version": "1.5.0",
            "_model_name": "HTMLModel",
            "_view_count": null,
            "_view_module": "@jupyter-widgets/controls",
            "_view_module_version": "1.5.0",
            "_view_name": "HTMLView",
            "description": "",
            "description_tooltip": null,
            "layout": "IPY_MODEL_8ab280924dc24203aba2875082b7b9be",
            "placeholder": "​",
            "style": "IPY_MODEL_e5c67ffac8444096a740e9701682337f",
            "value": " 1.34k/1.34k [00:00&lt;00:00, 30.0kB/s]"
          }
        },
        "caa3a04dac5547108d2fe7168c3b1c41": {
          "model_module": "@jupyter-widgets/base",
          "model_name": "LayoutModel",
          "model_module_version": "1.2.0",
          "state": {
            "_model_module": "@jupyter-widgets/base",
            "_model_module_version": "1.2.0",
            "_model_name": "LayoutModel",
            "_view_count": null,
            "_view_module": "@jupyter-widgets/base",
            "_view_module_version": "1.2.0",
            "_view_name": "LayoutView",
            "align_content": null,
            "align_items": null,
            "align_self": null,
            "border": null,
            "bottom": null,
            "display": null,
            "flex": null,
            "flex_flow": null,
            "grid_area": null,
            "grid_auto_columns": null,
            "grid_auto_flow": null,
            "grid_auto_rows": null,
            "grid_column": null,
            "grid_gap": null,
            "grid_row": null,
            "grid_template_areas": null,
            "grid_template_columns": null,
            "grid_template_rows": null,
            "height": null,
            "justify_content": null,
            "justify_items": null,
            "left": null,
            "margin": null,
            "max_height": null,
            "max_width": null,
            "min_height": null,
            "min_width": null,
            "object_fit": null,
            "object_position": null,
            "order": null,
            "overflow": null,
            "overflow_x": null,
            "overflow_y": null,
            "padding": null,
            "right": null,
            "top": null,
            "visibility": null,
            "width": null
          }
        },
        "f3bc1e1a85044cf69192234abb4d8318": {
          "model_module": "@jupyter-widgets/base",
          "model_name": "LayoutModel",
          "model_module_version": "1.2.0",
          "state": {
            "_model_module": "@jupyter-widgets/base",
            "_model_module_version": "1.2.0",
            "_model_name": "LayoutModel",
            "_view_count": null,
            "_view_module": "@jupyter-widgets/base",
            "_view_module_version": "1.2.0",
            "_view_name": "LayoutView",
            "align_content": null,
            "align_items": null,
            "align_self": null,
            "border": null,
            "bottom": null,
            "display": null,
            "flex": null,
            "flex_flow": null,
            "grid_area": null,
            "grid_auto_columns": null,
            "grid_auto_flow": null,
            "grid_auto_rows": null,
            "grid_column": null,
            "grid_gap": null,
            "grid_row": null,
            "grid_template_areas": null,
            "grid_template_columns": null,
            "grid_template_rows": null,
            "height": null,
            "justify_content": null,
            "justify_items": null,
            "left": null,
            "margin": null,
            "max_height": null,
            "max_width": null,
            "min_height": null,
            "min_width": null,
            "object_fit": null,
            "object_position": null,
            "order": null,
            "overflow": null,
            "overflow_x": null,
            "overflow_y": null,
            "padding": null,
            "right": null,
            "top": null,
            "visibility": null,
            "width": null
          }
        },
        "df40ff7333e74f3babafd2d04f86b1f9": {
          "model_module": "@jupyter-widgets/controls",
          "model_name": "DescriptionStyleModel",
          "model_module_version": "1.5.0",
          "state": {
            "_model_module": "@jupyter-widgets/controls",
            "_model_module_version": "1.5.0",
            "_model_name": "DescriptionStyleModel",
            "_view_count": null,
            "_view_module": "@jupyter-widgets/base",
            "_view_module_version": "1.2.0",
            "_view_name": "StyleView",
            "description_width": ""
          }
        },
        "681b3784cf654a98912a0e6d19457c23": {
          "model_module": "@jupyter-widgets/base",
          "model_name": "LayoutModel",
          "model_module_version": "1.2.0",
          "state": {
            "_model_module": "@jupyter-widgets/base",
            "_model_module_version": "1.2.0",
            "_model_name": "LayoutModel",
            "_view_count": null,
            "_view_module": "@jupyter-widgets/base",
            "_view_module_version": "1.2.0",
            "_view_name": "LayoutView",
            "align_content": null,
            "align_items": null,
            "align_self": null,
            "border": null,
            "bottom": null,
            "display": null,
            "flex": null,
            "flex_flow": null,
            "grid_area": null,
            "grid_auto_columns": null,
            "grid_auto_flow": null,
            "grid_auto_rows": null,
            "grid_column": null,
            "grid_gap": null,
            "grid_row": null,
            "grid_template_areas": null,
            "grid_template_columns": null,
            "grid_template_rows": null,
            "height": null,
            "justify_content": null,
            "justify_items": null,
            "left": null,
            "margin": null,
            "max_height": null,
            "max_width": null,
            "min_height": null,
            "min_width": null,
            "object_fit": null,
            "object_position": null,
            "order": null,
            "overflow": null,
            "overflow_x": null,
            "overflow_y": null,
            "padding": null,
            "right": null,
            "top": null,
            "visibility": null,
            "width": null
          }
        },
        "3d03f51db18248e2af5d1bf3baf1eede": {
          "model_module": "@jupyter-widgets/controls",
          "model_name": "ProgressStyleModel",
          "model_module_version": "1.5.0",
          "state": {
            "_model_module": "@jupyter-widgets/controls",
            "_model_module_version": "1.5.0",
            "_model_name": "ProgressStyleModel",
            "_view_count": null,
            "_view_module": "@jupyter-widgets/base",
            "_view_module_version": "1.2.0",
            "_view_name": "StyleView",
            "bar_color": null,
            "description_width": ""
          }
        },
        "8ab280924dc24203aba2875082b7b9be": {
          "model_module": "@jupyter-widgets/base",
          "model_name": "LayoutModel",
          "model_module_version": "1.2.0",
          "state": {
            "_model_module": "@jupyter-widgets/base",
            "_model_module_version": "1.2.0",
            "_model_name": "LayoutModel",
            "_view_count": null,
            "_view_module": "@jupyter-widgets/base",
            "_view_module_version": "1.2.0",
            "_view_name": "LayoutView",
            "align_content": null,
            "align_items": null,
            "align_self": null,
            "border": null,
            "bottom": null,
            "display": null,
            "flex": null,
            "flex_flow": null,
            "grid_area": null,
            "grid_auto_columns": null,
            "grid_auto_flow": null,
            "grid_auto_rows": null,
            "grid_column": null,
            "grid_gap": null,
            "grid_row": null,
            "grid_template_areas": null,
            "grid_template_columns": null,
            "grid_template_rows": null,
            "height": null,
            "justify_content": null,
            "justify_items": null,
            "left": null,
            "margin": null,
            "max_height": null,
            "max_width": null,
            "min_height": null,
            "min_width": null,
            "object_fit": null,
            "object_position": null,
            "order": null,
            "overflow": null,
            "overflow_x": null,
            "overflow_y": null,
            "padding": null,
            "right": null,
            "top": null,
            "visibility": null,
            "width": null
          }
        },
        "e5c67ffac8444096a740e9701682337f": {
          "model_module": "@jupyter-widgets/controls",
          "model_name": "DescriptionStyleModel",
          "model_module_version": "1.5.0",
          "state": {
            "_model_module": "@jupyter-widgets/controls",
            "_model_module_version": "1.5.0",
            "_model_name": "DescriptionStyleModel",
            "_view_count": null,
            "_view_module": "@jupyter-widgets/base",
            "_view_module_version": "1.2.0",
            "_view_name": "StyleView",
            "description_width": ""
          }
        },
        "23becec2a8ee4e0f8c9c8b3ccd245863": {
          "model_module": "@jupyter-widgets/controls",
          "model_name": "HBoxModel",
          "model_module_version": "1.5.0",
          "state": {
            "_dom_classes": [],
            "_model_module": "@jupyter-widgets/controls",
            "_model_module_version": "1.5.0",
            "_model_name": "HBoxModel",
            "_view_count": null,
            "_view_module": "@jupyter-widgets/controls",
            "_view_module_version": "1.5.0",
            "_view_name": "HBoxView",
            "box_style": "",
            "children": [
              "IPY_MODEL_e49ae2215fe347b0b873366eb7181c5d",
              "IPY_MODEL_cc59b87c958c429f91c8a106485713f2",
              "IPY_MODEL_18c008a0eaa344e4b20f73e90764924a"
            ],
            "layout": "IPY_MODEL_a548ed3c08a949eb84a7a5fbcc6dff14"
          }
        },
        "e49ae2215fe347b0b873366eb7181c5d": {
          "model_module": "@jupyter-widgets/controls",
          "model_name": "HTMLModel",
          "model_module_version": "1.5.0",
          "state": {
            "_dom_classes": [],
            "_model_module": "@jupyter-widgets/controls",
            "_model_module_version": "1.5.0",
            "_model_name": "HTMLModel",
            "_view_count": null,
            "_view_module": "@jupyter-widgets/controls",
            "_view_module_version": "1.5.0",
            "_view_name": "HTMLView",
            "description": "",
            "description_tooltip": null,
            "layout": "IPY_MODEL_e335af80c4dd422d8eeff9c7b8b19b6d",
            "placeholder": "​",
            "style": "IPY_MODEL_83e4f7cd74fa40a0a790ec7a8f7dbd20",
            "value": "tokenizer.json: 100%"
          }
        },
        "cc59b87c958c429f91c8a106485713f2": {
          "model_module": "@jupyter-widgets/controls",
          "model_name": "FloatProgressModel",
          "model_module_version": "1.5.0",
          "state": {
            "_dom_classes": [],
            "_model_module": "@jupyter-widgets/controls",
            "_model_module_version": "1.5.0",
            "_model_name": "FloatProgressModel",
            "_view_count": null,
            "_view_module": "@jupyter-widgets/controls",
            "_view_module_version": "1.5.0",
            "_view_name": "ProgressView",
            "bar_style": "success",
            "description": "",
            "description_tooltip": null,
            "layout": "IPY_MODEL_15711a9e04394535b03495085878ed75",
            "max": 17083074,
            "min": 0,
            "orientation": "horizontal",
            "style": "IPY_MODEL_c04a6a7b3672461ea8e175e7e59b2707",
            "value": 17083074
          }
        },
        "18c008a0eaa344e4b20f73e90764924a": {
          "model_module": "@jupyter-widgets/controls",
          "model_name": "HTMLModel",
          "model_module_version": "1.5.0",
          "state": {
            "_dom_classes": [],
            "_model_module": "@jupyter-widgets/controls",
            "_model_module_version": "1.5.0",
            "_model_name": "HTMLModel",
            "_view_count": null,
            "_view_module": "@jupyter-widgets/controls",
            "_view_module_version": "1.5.0",
            "_view_name": "HTMLView",
            "description": "",
            "description_tooltip": null,
            "layout": "IPY_MODEL_3a65438efb9540e188c4b06219dd4965",
            "placeholder": "​",
            "style": "IPY_MODEL_87838d71d7454f798bd542b4f08c6b6d",
            "value": " 17.1M/17.1M [00:00&lt;00:00, 16.6MB/s]"
          }
        },
        "a548ed3c08a949eb84a7a5fbcc6dff14": {
          "model_module": "@jupyter-widgets/base",
          "model_name": "LayoutModel",
          "model_module_version": "1.2.0",
          "state": {
            "_model_module": "@jupyter-widgets/base",
            "_model_module_version": "1.2.0",
            "_model_name": "LayoutModel",
            "_view_count": null,
            "_view_module": "@jupyter-widgets/base",
            "_view_module_version": "1.2.0",
            "_view_name": "LayoutView",
            "align_content": null,
            "align_items": null,
            "align_self": null,
            "border": null,
            "bottom": null,
            "display": null,
            "flex": null,
            "flex_flow": null,
            "grid_area": null,
            "grid_auto_columns": null,
            "grid_auto_flow": null,
            "grid_auto_rows": null,
            "grid_column": null,
            "grid_gap": null,
            "grid_row": null,
            "grid_template_areas": null,
            "grid_template_columns": null,
            "grid_template_rows": null,
            "height": null,
            "justify_content": null,
            "justify_items": null,
            "left": null,
            "margin": null,
            "max_height": null,
            "max_width": null,
            "min_height": null,
            "min_width": null,
            "object_fit": null,
            "object_position": null,
            "order": null,
            "overflow": null,
            "overflow_x": null,
            "overflow_y": null,
            "padding": null,
            "right": null,
            "top": null,
            "visibility": null,
            "width": null
          }
        },
        "e335af80c4dd422d8eeff9c7b8b19b6d": {
          "model_module": "@jupyter-widgets/base",
          "model_name": "LayoutModel",
          "model_module_version": "1.2.0",
          "state": {
            "_model_module": "@jupyter-widgets/base",
            "_model_module_version": "1.2.0",
            "_model_name": "LayoutModel",
            "_view_count": null,
            "_view_module": "@jupyter-widgets/base",
            "_view_module_version": "1.2.0",
            "_view_name": "LayoutView",
            "align_content": null,
            "align_items": null,
            "align_self": null,
            "border": null,
            "bottom": null,
            "display": null,
            "flex": null,
            "flex_flow": null,
            "grid_area": null,
            "grid_auto_columns": null,
            "grid_auto_flow": null,
            "grid_auto_rows": null,
            "grid_column": null,
            "grid_gap": null,
            "grid_row": null,
            "grid_template_areas": null,
            "grid_template_columns": null,
            "grid_template_rows": null,
            "height": null,
            "justify_content": null,
            "justify_items": null,
            "left": null,
            "margin": null,
            "max_height": null,
            "max_width": null,
            "min_height": null,
            "min_width": null,
            "object_fit": null,
            "object_position": null,
            "order": null,
            "overflow": null,
            "overflow_x": null,
            "overflow_y": null,
            "padding": null,
            "right": null,
            "top": null,
            "visibility": null,
            "width": null
          }
        },
        "83e4f7cd74fa40a0a790ec7a8f7dbd20": {
          "model_module": "@jupyter-widgets/controls",
          "model_name": "DescriptionStyleModel",
          "model_module_version": "1.5.0",
          "state": {
            "_model_module": "@jupyter-widgets/controls",
            "_model_module_version": "1.5.0",
            "_model_name": "DescriptionStyleModel",
            "_view_count": null,
            "_view_module": "@jupyter-widgets/base",
            "_view_module_version": "1.2.0",
            "_view_name": "StyleView",
            "description_width": ""
          }
        },
        "15711a9e04394535b03495085878ed75": {
          "model_module": "@jupyter-widgets/base",
          "model_name": "LayoutModel",
          "model_module_version": "1.2.0",
          "state": {
            "_model_module": "@jupyter-widgets/base",
            "_model_module_version": "1.2.0",
            "_model_name": "LayoutModel",
            "_view_count": null,
            "_view_module": "@jupyter-widgets/base",
            "_view_module_version": "1.2.0",
            "_view_name": "LayoutView",
            "align_content": null,
            "align_items": null,
            "align_self": null,
            "border": null,
            "bottom": null,
            "display": null,
            "flex": null,
            "flex_flow": null,
            "grid_area": null,
            "grid_auto_columns": null,
            "grid_auto_flow": null,
            "grid_auto_rows": null,
            "grid_column": null,
            "grid_gap": null,
            "grid_row": null,
            "grid_template_areas": null,
            "grid_template_columns": null,
            "grid_template_rows": null,
            "height": null,
            "justify_content": null,
            "justify_items": null,
            "left": null,
            "margin": null,
            "max_height": null,
            "max_width": null,
            "min_height": null,
            "min_width": null,
            "object_fit": null,
            "object_position": null,
            "order": null,
            "overflow": null,
            "overflow_x": null,
            "overflow_y": null,
            "padding": null,
            "right": null,
            "top": null,
            "visibility": null,
            "width": null
          }
        },
        "c04a6a7b3672461ea8e175e7e59b2707": {
          "model_module": "@jupyter-widgets/controls",
          "model_name": "ProgressStyleModel",
          "model_module_version": "1.5.0",
          "state": {
            "_model_module": "@jupyter-widgets/controls",
            "_model_module_version": "1.5.0",
            "_model_name": "ProgressStyleModel",
            "_view_count": null,
            "_view_module": "@jupyter-widgets/base",
            "_view_module_version": "1.2.0",
            "_view_name": "StyleView",
            "bar_color": null,
            "description_width": ""
          }
        },
        "3a65438efb9540e188c4b06219dd4965": {
          "model_module": "@jupyter-widgets/base",
          "model_name": "LayoutModel",
          "model_module_version": "1.2.0",
          "state": {
            "_model_module": "@jupyter-widgets/base",
            "_model_module_version": "1.2.0",
            "_model_name": "LayoutModel",
            "_view_count": null,
            "_view_module": "@jupyter-widgets/base",
            "_view_module_version": "1.2.0",
            "_view_name": "LayoutView",
            "align_content": null,
            "align_items": null,
            "align_self": null,
            "border": null,
            "bottom": null,
            "display": null,
            "flex": null,
            "flex_flow": null,
            "grid_area": null,
            "grid_auto_columns": null,
            "grid_auto_flow": null,
            "grid_auto_rows": null,
            "grid_column": null,
            "grid_gap": null,
            "grid_row": null,
            "grid_template_areas": null,
            "grid_template_columns": null,
            "grid_template_rows": null,
            "height": null,
            "justify_content": null,
            "justify_items": null,
            "left": null,
            "margin": null,
            "max_height": null,
            "max_width": null,
            "min_height": null,
            "min_width": null,
            "object_fit": null,
            "object_position": null,
            "order": null,
            "overflow": null,
            "overflow_x": null,
            "overflow_y": null,
            "padding": null,
            "right": null,
            "top": null,
            "visibility": null,
            "width": null
          }
        },
        "87838d71d7454f798bd542b4f08c6b6d": {
          "model_module": "@jupyter-widgets/controls",
          "model_name": "DescriptionStyleModel",
          "model_module_version": "1.5.0",
          "state": {
            "_model_module": "@jupyter-widgets/controls",
            "_model_module_version": "1.5.0",
            "_model_name": "DescriptionStyleModel",
            "_view_count": null,
            "_view_module": "@jupyter-widgets/base",
            "_view_module_version": "1.2.0",
            "_view_name": "StyleView",
            "description_width": ""
          }
        },
        "66454d68e7c443ab8567510434793386": {
          "model_module": "@jupyter-widgets/controls",
          "model_name": "HBoxModel",
          "model_module_version": "1.5.0",
          "state": {
            "_dom_classes": [],
            "_model_module": "@jupyter-widgets/controls",
            "_model_module_version": "1.5.0",
            "_model_name": "HBoxModel",
            "_view_count": null,
            "_view_module": "@jupyter-widgets/controls",
            "_view_module_version": "1.5.0",
            "_view_name": "HBoxView",
            "box_style": "",
            "children": [
              "IPY_MODEL_0ccced09e2fc4dfc843a6f378b8081ba",
              "IPY_MODEL_307d9ea25b6243eb8514060963a6a1e9",
              "IPY_MODEL_ecb1edf13c7b4e83889a72b90f839fa5"
            ],
            "layout": "IPY_MODEL_e832b3c53b3c478cae812ed46db76fe7"
          }
        },
        "0ccced09e2fc4dfc843a6f378b8081ba": {
          "model_module": "@jupyter-widgets/controls",
          "model_name": "HTMLModel",
          "model_module_version": "1.5.0",
          "state": {
            "_dom_classes": [],
            "_model_module": "@jupyter-widgets/controls",
            "_model_module_version": "1.5.0",
            "_model_name": "HTMLModel",
            "_view_count": null,
            "_view_module": "@jupyter-widgets/controls",
            "_view_module_version": "1.5.0",
            "_view_name": "HTMLView",
            "description": "",
            "description_tooltip": null,
            "layout": "IPY_MODEL_77377c12684a4b85aa377df20a3e5129",
            "placeholder": "​",
            "style": "IPY_MODEL_961f1e60409e4d8cb123248097bbd59c",
            "value": "special_tokens_map.json: 100%"
          }
        },
        "307d9ea25b6243eb8514060963a6a1e9": {
          "model_module": "@jupyter-widgets/controls",
          "model_name": "FloatProgressModel",
          "model_module_version": "1.5.0",
          "state": {
            "_dom_classes": [],
            "_model_module": "@jupyter-widgets/controls",
            "_model_module_version": "1.5.0",
            "_model_name": "FloatProgressModel",
            "_view_count": null,
            "_view_module": "@jupyter-widgets/controls",
            "_view_module_version": "1.5.0",
            "_view_name": "ProgressView",
            "bar_style": "success",
            "description": "",
            "description_tooltip": null,
            "layout": "IPY_MODEL_842a1e83a2aa4db69b51c1f08eab498f",
            "max": 964,
            "min": 0,
            "orientation": "horizontal",
            "style": "IPY_MODEL_abb02d8f55ed4ebb88640ca50c9d87f0",
            "value": 964
          }
        },
        "ecb1edf13c7b4e83889a72b90f839fa5": {
          "model_module": "@jupyter-widgets/controls",
          "model_name": "HTMLModel",
          "model_module_version": "1.5.0",
          "state": {
            "_dom_classes": [],
            "_model_module": "@jupyter-widgets/controls",
            "_model_module_version": "1.5.0",
            "_model_name": "HTMLModel",
            "_view_count": null,
            "_view_module": "@jupyter-widgets/controls",
            "_view_module_version": "1.5.0",
            "_view_name": "HTMLView",
            "description": "",
            "description_tooltip": null,
            "layout": "IPY_MODEL_95c4fdd31e5a4e5795fc06964305bc85",
            "placeholder": "​",
            "style": "IPY_MODEL_e6c6c339827e44f78c6ef9fcba06924f",
            "value": " 964/964 [00:00&lt;00:00, 16.4kB/s]"
          }
        },
        "e832b3c53b3c478cae812ed46db76fe7": {
          "model_module": "@jupyter-widgets/base",
          "model_name": "LayoutModel",
          "model_module_version": "1.2.0",
          "state": {
            "_model_module": "@jupyter-widgets/base",
            "_model_module_version": "1.2.0",
            "_model_name": "LayoutModel",
            "_view_count": null,
            "_view_module": "@jupyter-widgets/base",
            "_view_module_version": "1.2.0",
            "_view_name": "LayoutView",
            "align_content": null,
            "align_items": null,
            "align_self": null,
            "border": null,
            "bottom": null,
            "display": null,
            "flex": null,
            "flex_flow": null,
            "grid_area": null,
            "grid_auto_columns": null,
            "grid_auto_flow": null,
            "grid_auto_rows": null,
            "grid_column": null,
            "grid_gap": null,
            "grid_row": null,
            "grid_template_areas": null,
            "grid_template_columns": null,
            "grid_template_rows": null,
            "height": null,
            "justify_content": null,
            "justify_items": null,
            "left": null,
            "margin": null,
            "max_height": null,
            "max_width": null,
            "min_height": null,
            "min_width": null,
            "object_fit": null,
            "object_position": null,
            "order": null,
            "overflow": null,
            "overflow_x": null,
            "overflow_y": null,
            "padding": null,
            "right": null,
            "top": null,
            "visibility": null,
            "width": null
          }
        },
        "77377c12684a4b85aa377df20a3e5129": {
          "model_module": "@jupyter-widgets/base",
          "model_name": "LayoutModel",
          "model_module_version": "1.2.0",
          "state": {
            "_model_module": "@jupyter-widgets/base",
            "_model_module_version": "1.2.0",
            "_model_name": "LayoutModel",
            "_view_count": null,
            "_view_module": "@jupyter-widgets/base",
            "_view_module_version": "1.2.0",
            "_view_name": "LayoutView",
            "align_content": null,
            "align_items": null,
            "align_self": null,
            "border": null,
            "bottom": null,
            "display": null,
            "flex": null,
            "flex_flow": null,
            "grid_area": null,
            "grid_auto_columns": null,
            "grid_auto_flow": null,
            "grid_auto_rows": null,
            "grid_column": null,
            "grid_gap": null,
            "grid_row": null,
            "grid_template_areas": null,
            "grid_template_columns": null,
            "grid_template_rows": null,
            "height": null,
            "justify_content": null,
            "justify_items": null,
            "left": null,
            "margin": null,
            "max_height": null,
            "max_width": null,
            "min_height": null,
            "min_width": null,
            "object_fit": null,
            "object_position": null,
            "order": null,
            "overflow": null,
            "overflow_x": null,
            "overflow_y": null,
            "padding": null,
            "right": null,
            "top": null,
            "visibility": null,
            "width": null
          }
        },
        "961f1e60409e4d8cb123248097bbd59c": {
          "model_module": "@jupyter-widgets/controls",
          "model_name": "DescriptionStyleModel",
          "model_module_version": "1.5.0",
          "state": {
            "_model_module": "@jupyter-widgets/controls",
            "_model_module_version": "1.5.0",
            "_model_name": "DescriptionStyleModel",
            "_view_count": null,
            "_view_module": "@jupyter-widgets/base",
            "_view_module_version": "1.2.0",
            "_view_name": "StyleView",
            "description_width": ""
          }
        },
        "842a1e83a2aa4db69b51c1f08eab498f": {
          "model_module": "@jupyter-widgets/base",
          "model_name": "LayoutModel",
          "model_module_version": "1.2.0",
          "state": {
            "_model_module": "@jupyter-widgets/base",
            "_model_module_version": "1.2.0",
            "_model_name": "LayoutModel",
            "_view_count": null,
            "_view_module": "@jupyter-widgets/base",
            "_view_module_version": "1.2.0",
            "_view_name": "LayoutView",
            "align_content": null,
            "align_items": null,
            "align_self": null,
            "border": null,
            "bottom": null,
            "display": null,
            "flex": null,
            "flex_flow": null,
            "grid_area": null,
            "grid_auto_columns": null,
            "grid_auto_flow": null,
            "grid_auto_rows": null,
            "grid_column": null,
            "grid_gap": null,
            "grid_row": null,
            "grid_template_areas": null,
            "grid_template_columns": null,
            "grid_template_rows": null,
            "height": null,
            "justify_content": null,
            "justify_items": null,
            "left": null,
            "margin": null,
            "max_height": null,
            "max_width": null,
            "min_height": null,
            "min_width": null,
            "object_fit": null,
            "object_position": null,
            "order": null,
            "overflow": null,
            "overflow_x": null,
            "overflow_y": null,
            "padding": null,
            "right": null,
            "top": null,
            "visibility": null,
            "width": null
          }
        },
        "abb02d8f55ed4ebb88640ca50c9d87f0": {
          "model_module": "@jupyter-widgets/controls",
          "model_name": "ProgressStyleModel",
          "model_module_version": "1.5.0",
          "state": {
            "_model_module": "@jupyter-widgets/controls",
            "_model_module_version": "1.5.0",
            "_model_name": "ProgressStyleModel",
            "_view_count": null,
            "_view_module": "@jupyter-widgets/base",
            "_view_module_version": "1.2.0",
            "_view_name": "StyleView",
            "bar_color": null,
            "description_width": ""
          }
        },
        "95c4fdd31e5a4e5795fc06964305bc85": {
          "model_module": "@jupyter-widgets/base",
          "model_name": "LayoutModel",
          "model_module_version": "1.2.0",
          "state": {
            "_model_module": "@jupyter-widgets/base",
            "_model_module_version": "1.2.0",
            "_model_name": "LayoutModel",
            "_view_count": null,
            "_view_module": "@jupyter-widgets/base",
            "_view_module_version": "1.2.0",
            "_view_name": "LayoutView",
            "align_content": null,
            "align_items": null,
            "align_self": null,
            "border": null,
            "bottom": null,
            "display": null,
            "flex": null,
            "flex_flow": null,
            "grid_area": null,
            "grid_auto_columns": null,
            "grid_auto_flow": null,
            "grid_auto_rows": null,
            "grid_column": null,
            "grid_gap": null,
            "grid_row": null,
            "grid_template_areas": null,
            "grid_template_columns": null,
            "grid_template_rows": null,
            "height": null,
            "justify_content": null,
            "justify_items": null,
            "left": null,
            "margin": null,
            "max_height": null,
            "max_width": null,
            "min_height": null,
            "min_width": null,
            "object_fit": null,
            "object_position": null,
            "order": null,
            "overflow": null,
            "overflow_x": null,
            "overflow_y": null,
            "padding": null,
            "right": null,
            "top": null,
            "visibility": null,
            "width": null
          }
        },
        "e6c6c339827e44f78c6ef9fcba06924f": {
          "model_module": "@jupyter-widgets/controls",
          "model_name": "DescriptionStyleModel",
          "model_module_version": "1.5.0",
          "state": {
            "_model_module": "@jupyter-widgets/controls",
            "_model_module_version": "1.5.0",
            "_model_name": "DescriptionStyleModel",
            "_view_count": null,
            "_view_module": "@jupyter-widgets/base",
            "_view_module_version": "1.2.0",
            "_view_name": "StyleView",
            "description_width": ""
          }
        },
        "6e691c22d293441a8652c22430b12afd": {
          "model_module": "@jupyter-widgets/controls",
          "model_name": "HBoxModel",
          "model_module_version": "1.5.0",
          "state": {
            "_dom_classes": [],
            "_model_module": "@jupyter-widgets/controls",
            "_model_module_version": "1.5.0",
            "_model_name": "HBoxModel",
            "_view_count": null,
            "_view_module": "@jupyter-widgets/controls",
            "_view_module_version": "1.5.0",
            "_view_name": "HBoxView",
            "box_style": "",
            "children": [
              "IPY_MODEL_adb71094fa4546b9a4bf86e96c629f10",
              "IPY_MODEL_27c845051bce4e8284ab6e85a10a1d18",
              "IPY_MODEL_0335bf97e3c84120b55f14a7275d3d7a"
            ],
            "layout": "IPY_MODEL_230470c2bc9a471fa3ffd8c34f54b69b"
          }
        },
        "adb71094fa4546b9a4bf86e96c629f10": {
          "model_module": "@jupyter-widgets/controls",
          "model_name": "HTMLModel",
          "model_module_version": "1.5.0",
          "state": {
            "_dom_classes": [],
            "_model_module": "@jupyter-widgets/controls",
            "_model_module_version": "1.5.0",
            "_model_name": "HTMLModel",
            "_view_count": null,
            "_view_module": "@jupyter-widgets/controls",
            "_view_module_version": "1.5.0",
            "_view_name": "HTMLView",
            "description": "",
            "description_tooltip": null,
            "layout": "IPY_MODEL_c7ad8e16ee2442b2b03188820b354294",
            "placeholder": "​",
            "style": "IPY_MODEL_93e1b80cef55457093afd9127f7d1b7e",
            "value": "config.json: 100%"
          }
        },
        "27c845051bce4e8284ab6e85a10a1d18": {
          "model_module": "@jupyter-widgets/controls",
          "model_name": "FloatProgressModel",
          "model_module_version": "1.5.0",
          "state": {
            "_dom_classes": [],
            "_model_module": "@jupyter-widgets/controls",
            "_model_module_version": "1.5.0",
            "_model_name": "FloatProgressModel",
            "_view_count": null,
            "_view_module": "@jupyter-widgets/controls",
            "_view_module_version": "1.5.0",
            "_view_name": "ProgressView",
            "bar_style": "success",
            "description": "",
            "description_tooltip": null,
            "layout": "IPY_MODEL_2ac8c9988fc14eaa957814b3fb19cdee",
            "max": 784,
            "min": 0,
            "orientation": "horizontal",
            "style": "IPY_MODEL_c4757477d935418e91e561c303c59951",
            "value": 784
          }
        },
        "0335bf97e3c84120b55f14a7275d3d7a": {
          "model_module": "@jupyter-widgets/controls",
          "model_name": "HTMLModel",
          "model_module_version": "1.5.0",
          "state": {
            "_dom_classes": [],
            "_model_module": "@jupyter-widgets/controls",
            "_model_module_version": "1.5.0",
            "_model_name": "HTMLModel",
            "_view_count": null,
            "_view_module": "@jupyter-widgets/controls",
            "_view_module_version": "1.5.0",
            "_view_name": "HTMLView",
            "description": "",
            "description_tooltip": null,
            "layout": "IPY_MODEL_428ac729b7734f72ba675e6e6056d6f2",
            "placeholder": "​",
            "style": "IPY_MODEL_0db7a7907b7f4b0cb28deb7c5bedf7fc",
            "value": " 784/784 [00:00&lt;00:00, 50.2kB/s]"
          }
        },
        "230470c2bc9a471fa3ffd8c34f54b69b": {
          "model_module": "@jupyter-widgets/base",
          "model_name": "LayoutModel",
          "model_module_version": "1.2.0",
          "state": {
            "_model_module": "@jupyter-widgets/base",
            "_model_module_version": "1.2.0",
            "_model_name": "LayoutModel",
            "_view_count": null,
            "_view_module": "@jupyter-widgets/base",
            "_view_module_version": "1.2.0",
            "_view_name": "LayoutView",
            "align_content": null,
            "align_items": null,
            "align_self": null,
            "border": null,
            "bottom": null,
            "display": null,
            "flex": null,
            "flex_flow": null,
            "grid_area": null,
            "grid_auto_columns": null,
            "grid_auto_flow": null,
            "grid_auto_rows": null,
            "grid_column": null,
            "grid_gap": null,
            "grid_row": null,
            "grid_template_areas": null,
            "grid_template_columns": null,
            "grid_template_rows": null,
            "height": null,
            "justify_content": null,
            "justify_items": null,
            "left": null,
            "margin": null,
            "max_height": null,
            "max_width": null,
            "min_height": null,
            "min_width": null,
            "object_fit": null,
            "object_position": null,
            "order": null,
            "overflow": null,
            "overflow_x": null,
            "overflow_y": null,
            "padding": null,
            "right": null,
            "top": null,
            "visibility": null,
            "width": null
          }
        },
        "c7ad8e16ee2442b2b03188820b354294": {
          "model_module": "@jupyter-widgets/base",
          "model_name": "LayoutModel",
          "model_module_version": "1.2.0",
          "state": {
            "_model_module": "@jupyter-widgets/base",
            "_model_module_version": "1.2.0",
            "_model_name": "LayoutModel",
            "_view_count": null,
            "_view_module": "@jupyter-widgets/base",
            "_view_module_version": "1.2.0",
            "_view_name": "LayoutView",
            "align_content": null,
            "align_items": null,
            "align_self": null,
            "border": null,
            "bottom": null,
            "display": null,
            "flex": null,
            "flex_flow": null,
            "grid_area": null,
            "grid_auto_columns": null,
            "grid_auto_flow": null,
            "grid_auto_rows": null,
            "grid_column": null,
            "grid_gap": null,
            "grid_row": null,
            "grid_template_areas": null,
            "grid_template_columns": null,
            "grid_template_rows": null,
            "height": null,
            "justify_content": null,
            "justify_items": null,
            "left": null,
            "margin": null,
            "max_height": null,
            "max_width": null,
            "min_height": null,
            "min_width": null,
            "object_fit": null,
            "object_position": null,
            "order": null,
            "overflow": null,
            "overflow_x": null,
            "overflow_y": null,
            "padding": null,
            "right": null,
            "top": null,
            "visibility": null,
            "width": null
          }
        },
        "93e1b80cef55457093afd9127f7d1b7e": {
          "model_module": "@jupyter-widgets/controls",
          "model_name": "DescriptionStyleModel",
          "model_module_version": "1.5.0",
          "state": {
            "_model_module": "@jupyter-widgets/controls",
            "_model_module_version": "1.5.0",
            "_model_name": "DescriptionStyleModel",
            "_view_count": null,
            "_view_module": "@jupyter-widgets/base",
            "_view_module_version": "1.2.0",
            "_view_name": "StyleView",
            "description_width": ""
          }
        },
        "2ac8c9988fc14eaa957814b3fb19cdee": {
          "model_module": "@jupyter-widgets/base",
          "model_name": "LayoutModel",
          "model_module_version": "1.2.0",
          "state": {
            "_model_module": "@jupyter-widgets/base",
            "_model_module_version": "1.2.0",
            "_model_name": "LayoutModel",
            "_view_count": null,
            "_view_module": "@jupyter-widgets/base",
            "_view_module_version": "1.2.0",
            "_view_name": "LayoutView",
            "align_content": null,
            "align_items": null,
            "align_self": null,
            "border": null,
            "bottom": null,
            "display": null,
            "flex": null,
            "flex_flow": null,
            "grid_area": null,
            "grid_auto_columns": null,
            "grid_auto_flow": null,
            "grid_auto_rows": null,
            "grid_column": null,
            "grid_gap": null,
            "grid_row": null,
            "grid_template_areas": null,
            "grid_template_columns": null,
            "grid_template_rows": null,
            "height": null,
            "justify_content": null,
            "justify_items": null,
            "left": null,
            "margin": null,
            "max_height": null,
            "max_width": null,
            "min_height": null,
            "min_width": null,
            "object_fit": null,
            "object_position": null,
            "order": null,
            "overflow": null,
            "overflow_x": null,
            "overflow_y": null,
            "padding": null,
            "right": null,
            "top": null,
            "visibility": null,
            "width": null
          }
        },
        "c4757477d935418e91e561c303c59951": {
          "model_module": "@jupyter-widgets/controls",
          "model_name": "ProgressStyleModel",
          "model_module_version": "1.5.0",
          "state": {
            "_model_module": "@jupyter-widgets/controls",
            "_model_module_version": "1.5.0",
            "_model_name": "ProgressStyleModel",
            "_view_count": null,
            "_view_module": "@jupyter-widgets/base",
            "_view_module_version": "1.2.0",
            "_view_name": "StyleView",
            "bar_color": null,
            "description_width": ""
          }
        },
        "428ac729b7734f72ba675e6e6056d6f2": {
          "model_module": "@jupyter-widgets/base",
          "model_name": "LayoutModel",
          "model_module_version": "1.2.0",
          "state": {
            "_model_module": "@jupyter-widgets/base",
            "_model_module_version": "1.2.0",
            "_model_name": "LayoutModel",
            "_view_count": null,
            "_view_module": "@jupyter-widgets/base",
            "_view_module_version": "1.2.0",
            "_view_name": "LayoutView",
            "align_content": null,
            "align_items": null,
            "align_self": null,
            "border": null,
            "bottom": null,
            "display": null,
            "flex": null,
            "flex_flow": null,
            "grid_area": null,
            "grid_auto_columns": null,
            "grid_auto_flow": null,
            "grid_auto_rows": null,
            "grid_column": null,
            "grid_gap": null,
            "grid_row": null,
            "grid_template_areas": null,
            "grid_template_columns": null,
            "grid_template_rows": null,
            "height": null,
            "justify_content": null,
            "justify_items": null,
            "left": null,
            "margin": null,
            "max_height": null,
            "max_width": null,
            "min_height": null,
            "min_width": null,
            "object_fit": null,
            "object_position": null,
            "order": null,
            "overflow": null,
            "overflow_x": null,
            "overflow_y": null,
            "padding": null,
            "right": null,
            "top": null,
            "visibility": null,
            "width": null
          }
        },
        "0db7a7907b7f4b0cb28deb7c5bedf7fc": {
          "model_module": "@jupyter-widgets/controls",
          "model_name": "DescriptionStyleModel",
          "model_module_version": "1.5.0",
          "state": {
            "_model_module": "@jupyter-widgets/controls",
            "_model_module_version": "1.5.0",
            "_model_name": "DescriptionStyleModel",
            "_view_count": null,
            "_view_module": "@jupyter-widgets/base",
            "_view_module_version": "1.2.0",
            "_view_name": "StyleView",
            "description_width": ""
          }
        },
        "b29c9ce0de084eb5bc8c42cc0111ed10": {
          "model_module": "@jupyter-widgets/controls",
          "model_name": "HBoxModel",
          "model_module_version": "1.5.0",
          "state": {
            "_dom_classes": [],
            "_model_module": "@jupyter-widgets/controls",
            "_model_module_version": "1.5.0",
            "_model_name": "HBoxModel",
            "_view_count": null,
            "_view_module": "@jupyter-widgets/controls",
            "_view_module_version": "1.5.0",
            "_view_name": "HBoxView",
            "box_style": "",
            "children": [
              "IPY_MODEL_618118fab1e046199e2ab184912f487d",
              "IPY_MODEL_a7918bbc39984e1cb290044c8ef0ccd2",
              "IPY_MODEL_10d4424f1fc146deaa49deecd6e7efc8"
            ],
            "layout": "IPY_MODEL_071b9fd7d7b6456bb7a53fa50c50d57e"
          }
        },
        "618118fab1e046199e2ab184912f487d": {
          "model_module": "@jupyter-widgets/controls",
          "model_name": "HTMLModel",
          "model_module_version": "1.5.0",
          "state": {
            "_dom_classes": [],
            "_model_module": "@jupyter-widgets/controls",
            "_model_module_version": "1.5.0",
            "_model_name": "HTMLModel",
            "_view_count": null,
            "_view_module": "@jupyter-widgets/controls",
            "_view_module_version": "1.5.0",
            "_view_name": "HTMLView",
            "description": "",
            "description_tooltip": null,
            "layout": "IPY_MODEL_1f3862c6d8b84efc92954edbf630082c",
            "placeholder": "​",
            "style": "IPY_MODEL_060f2f7a4c8b4fcaaedcb8696ff3bb42",
            "value": "model.safetensors: 100%"
          }
        },
        "a7918bbc39984e1cb290044c8ef0ccd2": {
          "model_module": "@jupyter-widgets/controls",
          "model_name": "FloatProgressModel",
          "model_module_version": "1.5.0",
          "state": {
            "_dom_classes": [],
            "_model_module": "@jupyter-widgets/controls",
            "_model_module_version": "1.5.0",
            "_model_name": "FloatProgressModel",
            "_view_count": null,
            "_view_module": "@jupyter-widgets/controls",
            "_view_module_version": "1.5.0",
            "_view_name": "ProgressView",
            "bar_style": "success",
            "description": "",
            "description_tooltip": null,
            "layout": "IPY_MODEL_5b8a64bd0ebc4635bcd0f0a10eb65cdf",
            "max": 2271064456,
            "min": 0,
            "orientation": "horizontal",
            "style": "IPY_MODEL_295a459d692846b1a747699af0a76e85",
            "value": 2271064456
          }
        },
        "10d4424f1fc146deaa49deecd6e7efc8": {
          "model_module": "@jupyter-widgets/controls",
          "model_name": "HTMLModel",
          "model_module_version": "1.5.0",
          "state": {
            "_dom_classes": [],
            "_model_module": "@jupyter-widgets/controls",
            "_model_module_version": "1.5.0",
            "_model_name": "HTMLModel",
            "_view_count": null,
            "_view_module": "@jupyter-widgets/controls",
            "_view_module_version": "1.5.0",
            "_view_name": "HTMLView",
            "description": "",
            "description_tooltip": null,
            "layout": "IPY_MODEL_7653620a18c840d0919ebecc688895d7",
            "placeholder": "​",
            "style": "IPY_MODEL_8b78fe00f25f4d1da3f0f2cde495b57a",
            "value": " 2.27G/2.27G [00:24&lt;00:00, 53.7MB/s]"
          }
        },
        "071b9fd7d7b6456bb7a53fa50c50d57e": {
          "model_module": "@jupyter-widgets/base",
          "model_name": "LayoutModel",
          "model_module_version": "1.2.0",
          "state": {
            "_model_module": "@jupyter-widgets/base",
            "_model_module_version": "1.2.0",
            "_model_name": "LayoutModel",
            "_view_count": null,
            "_view_module": "@jupyter-widgets/base",
            "_view_module_version": "1.2.0",
            "_view_name": "LayoutView",
            "align_content": null,
            "align_items": null,
            "align_self": null,
            "border": null,
            "bottom": null,
            "display": null,
            "flex": null,
            "flex_flow": null,
            "grid_area": null,
            "grid_auto_columns": null,
            "grid_auto_flow": null,
            "grid_auto_rows": null,
            "grid_column": null,
            "grid_gap": null,
            "grid_row": null,
            "grid_template_areas": null,
            "grid_template_columns": null,
            "grid_template_rows": null,
            "height": null,
            "justify_content": null,
            "justify_items": null,
            "left": null,
            "margin": null,
            "max_height": null,
            "max_width": null,
            "min_height": null,
            "min_width": null,
            "object_fit": null,
            "object_position": null,
            "order": null,
            "overflow": null,
            "overflow_x": null,
            "overflow_y": null,
            "padding": null,
            "right": null,
            "top": null,
            "visibility": null,
            "width": null
          }
        },
        "1f3862c6d8b84efc92954edbf630082c": {
          "model_module": "@jupyter-widgets/base",
          "model_name": "LayoutModel",
          "model_module_version": "1.2.0",
          "state": {
            "_model_module": "@jupyter-widgets/base",
            "_model_module_version": "1.2.0",
            "_model_name": "LayoutModel",
            "_view_count": null,
            "_view_module": "@jupyter-widgets/base",
            "_view_module_version": "1.2.0",
            "_view_name": "LayoutView",
            "align_content": null,
            "align_items": null,
            "align_self": null,
            "border": null,
            "bottom": null,
            "display": null,
            "flex": null,
            "flex_flow": null,
            "grid_area": null,
            "grid_auto_columns": null,
            "grid_auto_flow": null,
            "grid_auto_rows": null,
            "grid_column": null,
            "grid_gap": null,
            "grid_row": null,
            "grid_template_areas": null,
            "grid_template_columns": null,
            "grid_template_rows": null,
            "height": null,
            "justify_content": null,
            "justify_items": null,
            "left": null,
            "margin": null,
            "max_height": null,
            "max_width": null,
            "min_height": null,
            "min_width": null,
            "object_fit": null,
            "object_position": null,
            "order": null,
            "overflow": null,
            "overflow_x": null,
            "overflow_y": null,
            "padding": null,
            "right": null,
            "top": null,
            "visibility": null,
            "width": null
          }
        },
        "060f2f7a4c8b4fcaaedcb8696ff3bb42": {
          "model_module": "@jupyter-widgets/controls",
          "model_name": "DescriptionStyleModel",
          "model_module_version": "1.5.0",
          "state": {
            "_model_module": "@jupyter-widgets/controls",
            "_model_module_version": "1.5.0",
            "_model_name": "DescriptionStyleModel",
            "_view_count": null,
            "_view_module": "@jupyter-widgets/base",
            "_view_module_version": "1.2.0",
            "_view_name": "StyleView",
            "description_width": ""
          }
        },
        "5b8a64bd0ebc4635bcd0f0a10eb65cdf": {
          "model_module": "@jupyter-widgets/base",
          "model_name": "LayoutModel",
          "model_module_version": "1.2.0",
          "state": {
            "_model_module": "@jupyter-widgets/base",
            "_model_module_version": "1.2.0",
            "_model_name": "LayoutModel",
            "_view_count": null,
            "_view_module": "@jupyter-widgets/base",
            "_view_module_version": "1.2.0",
            "_view_name": "LayoutView",
            "align_content": null,
            "align_items": null,
            "align_self": null,
            "border": null,
            "bottom": null,
            "display": null,
            "flex": null,
            "flex_flow": null,
            "grid_area": null,
            "grid_auto_columns": null,
            "grid_auto_flow": null,
            "grid_auto_rows": null,
            "grid_column": null,
            "grid_gap": null,
            "grid_row": null,
            "grid_template_areas": null,
            "grid_template_columns": null,
            "grid_template_rows": null,
            "height": null,
            "justify_content": null,
            "justify_items": null,
            "left": null,
            "margin": null,
            "max_height": null,
            "max_width": null,
            "min_height": null,
            "min_width": null,
            "object_fit": null,
            "object_position": null,
            "order": null,
            "overflow": null,
            "overflow_x": null,
            "overflow_y": null,
            "padding": null,
            "right": null,
            "top": null,
            "visibility": null,
            "width": null
          }
        },
        "295a459d692846b1a747699af0a76e85": {
          "model_module": "@jupyter-widgets/controls",
          "model_name": "ProgressStyleModel",
          "model_module_version": "1.5.0",
          "state": {
            "_model_module": "@jupyter-widgets/controls",
            "_model_module_version": "1.5.0",
            "_model_name": "ProgressStyleModel",
            "_view_count": null,
            "_view_module": "@jupyter-widgets/base",
            "_view_module_version": "1.2.0",
            "_view_name": "StyleView",
            "bar_color": null,
            "description_width": ""
          }
        },
        "7653620a18c840d0919ebecc688895d7": {
          "model_module": "@jupyter-widgets/base",
          "model_name": "LayoutModel",
          "model_module_version": "1.2.0",
          "state": {
            "_model_module": "@jupyter-widgets/base",
            "_model_module_version": "1.2.0",
            "_model_name": "LayoutModel",
            "_view_count": null,
            "_view_module": "@jupyter-widgets/base",
            "_view_module_version": "1.2.0",
            "_view_name": "LayoutView",
            "align_content": null,
            "align_items": null,
            "align_self": null,
            "border": null,
            "bottom": null,
            "display": null,
            "flex": null,
            "flex_flow": null,
            "grid_area": null,
            "grid_auto_columns": null,
            "grid_auto_flow": null,
            "grid_auto_rows": null,
            "grid_column": null,
            "grid_gap": null,
            "grid_row": null,
            "grid_template_areas": null,
            "grid_template_columns": null,
            "grid_template_rows": null,
            "height": null,
            "justify_content": null,
            "justify_items": null,
            "left": null,
            "margin": null,
            "max_height": null,
            "max_width": null,
            "min_height": null,
            "min_width": null,
            "object_fit": null,
            "object_position": null,
            "order": null,
            "overflow": null,
            "overflow_x": null,
            "overflow_y": null,
            "padding": null,
            "right": null,
            "top": null,
            "visibility": null,
            "width": null
          }
        },
        "8b78fe00f25f4d1da3f0f2cde495b57a": {
          "model_module": "@jupyter-widgets/controls",
          "model_name": "DescriptionStyleModel",
          "model_module_version": "1.5.0",
          "state": {
            "_model_module": "@jupyter-widgets/controls",
            "_model_module_version": "1.5.0",
            "_model_name": "DescriptionStyleModel",
            "_view_count": null,
            "_view_module": "@jupyter-widgets/base",
            "_view_module_version": "1.2.0",
            "_view_name": "StyleView",
            "description_width": ""
          }
        }
      }
    }
  },
  "cells": [
    {
      "cell_type": "markdown",
      "metadata": {
        "id": "view-in-github",
        "colab_type": "text"
      },
      "source": [
        "<a href=\"https://colab.research.google.com/github/katelyn-hucker/xai_h10/blob/main/XAI_with_LLMs.ipynb\" target=\"_parent\"><img src=\"https://colab.research.google.com/assets/colab-badge.svg\" alt=\"Open In Colab\"/></a>"
      ]
    },
    {
      "cell_type": "markdown",
      "source": [
        "# XAI with LLMS\n",
        "### Katelyn Hucker\n",
        "\n",
        "In this explainable technique exploration, we explore 3 different techniques: PCA, UMAP, and t-SNE for sample data on the MTEB leaderboard model, Snowflake. We can understand how Snowflake works by using these techniques and see the benefits for using XAI tools."
      ],
      "metadata": {
        "id": "Hwp9eO6kyrSk"
      }
    },
    {
      "cell_type": "code",
      "execution_count": 1,
      "metadata": {
        "id": "hVgfFfWenzwD"
      },
      "outputs": [],
      "source": [
        "import torch\n",
        "from transformers import AutoModel, AutoTokenizer\n",
        "import numpy as np\n",
        "import matplotlib.pyplot as plt\n",
        "from sklearn.manifold import TSNE\n",
        "from sklearn.decomposition import PCA\n",
        "import umap\n",
        "import seaborn as sns\n",
        "from umap import UMAP"
      ]
    },
    {
      "cell_type": "code",
      "source": [
        "# set a seed\n",
        "np.random.seed(42)\n",
        "torch.manual_seed(42)"
      ],
      "metadata": {
        "colab": {
          "base_uri": "https://localhost:8080/"
        },
        "id": "hf74aedQn29U",
        "outputId": "273b2772-502a-4f4c-ddba-05c8600d0c7d"
      },
      "execution_count": 2,
      "outputs": [
        {
          "output_type": "execute_result",
          "data": {
            "text/plain": [
              "<torch._C.Generator at 0x7d1547f05810>"
            ]
          },
          "metadata": {},
          "execution_count": 2
        }
      ]
    },
    {
      "cell_type": "code",
      "source": [
        "# load the model\n",
        "#this code was taken from hugging face documentation https://huggingface.co/Snowflake/snowflake-arctic-embed-l-v2.0#usage\n",
        "model_name = 'Snowflake/snowflake-arctic-embed-l-v2.0'\n",
        "tokenizer = AutoTokenizer.from_pretrained(model_name)\n",
        "model = AutoModel.from_pretrained(model_name, add_pooling_layer=False)\n",
        "model.eval()"
      ],
      "metadata": {
        "colab": {
          "base_uri": "https://localhost:8080/",
          "height": 995,
          "referenced_widgets": [
            "6080776aaa854272a2636b1016f1e031",
            "5917d497a6f64861be13cce6625367aa",
            "8a23e7e5812c4043b4049f36f6dc7818",
            "97d9abc93b934d9ebe0a3c82c4cd6a85",
            "caa3a04dac5547108d2fe7168c3b1c41",
            "f3bc1e1a85044cf69192234abb4d8318",
            "df40ff7333e74f3babafd2d04f86b1f9",
            "681b3784cf654a98912a0e6d19457c23",
            "3d03f51db18248e2af5d1bf3baf1eede",
            "8ab280924dc24203aba2875082b7b9be",
            "e5c67ffac8444096a740e9701682337f",
            "23becec2a8ee4e0f8c9c8b3ccd245863",
            "e49ae2215fe347b0b873366eb7181c5d",
            "cc59b87c958c429f91c8a106485713f2",
            "18c008a0eaa344e4b20f73e90764924a",
            "a548ed3c08a949eb84a7a5fbcc6dff14",
            "e335af80c4dd422d8eeff9c7b8b19b6d",
            "83e4f7cd74fa40a0a790ec7a8f7dbd20",
            "15711a9e04394535b03495085878ed75",
            "c04a6a7b3672461ea8e175e7e59b2707",
            "3a65438efb9540e188c4b06219dd4965",
            "87838d71d7454f798bd542b4f08c6b6d",
            "66454d68e7c443ab8567510434793386",
            "0ccced09e2fc4dfc843a6f378b8081ba",
            "307d9ea25b6243eb8514060963a6a1e9",
            "ecb1edf13c7b4e83889a72b90f839fa5",
            "e832b3c53b3c478cae812ed46db76fe7",
            "77377c12684a4b85aa377df20a3e5129",
            "961f1e60409e4d8cb123248097bbd59c",
            "842a1e83a2aa4db69b51c1f08eab498f",
            "abb02d8f55ed4ebb88640ca50c9d87f0",
            "95c4fdd31e5a4e5795fc06964305bc85",
            "e6c6c339827e44f78c6ef9fcba06924f",
            "6e691c22d293441a8652c22430b12afd",
            "adb71094fa4546b9a4bf86e96c629f10",
            "27c845051bce4e8284ab6e85a10a1d18",
            "0335bf97e3c84120b55f14a7275d3d7a",
            "230470c2bc9a471fa3ffd8c34f54b69b",
            "c7ad8e16ee2442b2b03188820b354294",
            "93e1b80cef55457093afd9127f7d1b7e",
            "2ac8c9988fc14eaa957814b3fb19cdee",
            "c4757477d935418e91e561c303c59951",
            "428ac729b7734f72ba675e6e6056d6f2",
            "0db7a7907b7f4b0cb28deb7c5bedf7fc",
            "b29c9ce0de084eb5bc8c42cc0111ed10",
            "618118fab1e046199e2ab184912f487d",
            "a7918bbc39984e1cb290044c8ef0ccd2",
            "10d4424f1fc146deaa49deecd6e7efc8",
            "071b9fd7d7b6456bb7a53fa50c50d57e",
            "1f3862c6d8b84efc92954edbf630082c",
            "060f2f7a4c8b4fcaaedcb8696ff3bb42",
            "5b8a64bd0ebc4635bcd0f0a10eb65cdf",
            "295a459d692846b1a747699af0a76e85",
            "7653620a18c840d0919ebecc688895d7",
            "8b78fe00f25f4d1da3f0f2cde495b57a"
          ]
        },
        "id": "noPEZ93_oJM7",
        "outputId": "7eba71ac-b6a9-4a7d-b1b1-432330590e9a"
      },
      "execution_count": 3,
      "outputs": [
        {
          "output_type": "stream",
          "name": "stderr",
          "text": [
            "/usr/local/lib/python3.11/dist-packages/huggingface_hub/utils/_auth.py:94: UserWarning: \n",
            "The secret `HF_TOKEN` does not exist in your Colab secrets.\n",
            "To authenticate with the Hugging Face Hub, create a token in your settings tab (https://huggingface.co/settings/tokens), set it as secret in your Google Colab and restart your session.\n",
            "You will be able to reuse this secret in all of your notebooks.\n",
            "Please note that authentication is recommended but still optional to access public models or datasets.\n",
            "  warnings.warn(\n"
          ]
        },
        {
          "output_type": "display_data",
          "data": {
            "text/plain": [
              "tokenizer_config.json:   0%|          | 0.00/1.34k [00:00<?, ?B/s]"
            ],
            "application/vnd.jupyter.widget-view+json": {
              "version_major": 2,
              "version_minor": 0,
              "model_id": "6080776aaa854272a2636b1016f1e031"
            }
          },
          "metadata": {}
        },
        {
          "output_type": "display_data",
          "data": {
            "text/plain": [
              "tokenizer.json:   0%|          | 0.00/17.1M [00:00<?, ?B/s]"
            ],
            "application/vnd.jupyter.widget-view+json": {
              "version_major": 2,
              "version_minor": 0,
              "model_id": "23becec2a8ee4e0f8c9c8b3ccd245863"
            }
          },
          "metadata": {}
        },
        {
          "output_type": "display_data",
          "data": {
            "text/plain": [
              "special_tokens_map.json:   0%|          | 0.00/964 [00:00<?, ?B/s]"
            ],
            "application/vnd.jupyter.widget-view+json": {
              "version_major": 2,
              "version_minor": 0,
              "model_id": "66454d68e7c443ab8567510434793386"
            }
          },
          "metadata": {}
        },
        {
          "output_type": "display_data",
          "data": {
            "text/plain": [
              "config.json:   0%|          | 0.00/784 [00:00<?, ?B/s]"
            ],
            "application/vnd.jupyter.widget-view+json": {
              "version_major": 2,
              "version_minor": 0,
              "model_id": "6e691c22d293441a8652c22430b12afd"
            }
          },
          "metadata": {}
        },
        {
          "output_type": "display_data",
          "data": {
            "text/plain": [
              "model.safetensors:   0%|          | 0.00/2.27G [00:00<?, ?B/s]"
            ],
            "application/vnd.jupyter.widget-view+json": {
              "version_major": 2,
              "version_minor": 0,
              "model_id": "b29c9ce0de084eb5bc8c42cc0111ed10"
            }
          },
          "metadata": {}
        },
        {
          "output_type": "stream",
          "name": "stderr",
          "text": [
            "Some weights of the model checkpoint at Snowflake/snowflake-arctic-embed-l-v2.0 were not used when initializing XLMRobertaModel: ['pooler.dense.bias', 'pooler.dense.weight']\n",
            "- This IS expected if you are initializing XLMRobertaModel from the checkpoint of a model trained on another task or with another architecture (e.g. initializing a BertForSequenceClassification model from a BertForPreTraining model).\n",
            "- This IS NOT expected if you are initializing XLMRobertaModel from the checkpoint of a model that you expect to be exactly identical (initializing a BertForSequenceClassification model from a BertForSequenceClassification model).\n"
          ]
        },
        {
          "output_type": "execute_result",
          "data": {
            "text/plain": [
              "XLMRobertaModel(\n",
              "  (embeddings): XLMRobertaEmbeddings(\n",
              "    (word_embeddings): Embedding(250002, 1024, padding_idx=1)\n",
              "    (position_embeddings): Embedding(8194, 1024, padding_idx=1)\n",
              "    (token_type_embeddings): Embedding(1, 1024)\n",
              "    (LayerNorm): LayerNorm((1024,), eps=1e-05, elementwise_affine=True)\n",
              "    (dropout): Dropout(p=0.1, inplace=False)\n",
              "  )\n",
              "  (encoder): XLMRobertaEncoder(\n",
              "    (layer): ModuleList(\n",
              "      (0-23): 24 x XLMRobertaLayer(\n",
              "        (attention): XLMRobertaAttention(\n",
              "          (self): XLMRobertaSdpaSelfAttention(\n",
              "            (query): Linear(in_features=1024, out_features=1024, bias=True)\n",
              "            (key): Linear(in_features=1024, out_features=1024, bias=True)\n",
              "            (value): Linear(in_features=1024, out_features=1024, bias=True)\n",
              "            (dropout): Dropout(p=0.1, inplace=False)\n",
              "          )\n",
              "          (output): XLMRobertaSelfOutput(\n",
              "            (dense): Linear(in_features=1024, out_features=1024, bias=True)\n",
              "            (LayerNorm): LayerNorm((1024,), eps=1e-05, elementwise_affine=True)\n",
              "            (dropout): Dropout(p=0.1, inplace=False)\n",
              "          )\n",
              "        )\n",
              "        (intermediate): XLMRobertaIntermediate(\n",
              "          (dense): Linear(in_features=1024, out_features=4096, bias=True)\n",
              "          (intermediate_act_fn): GELUActivation()\n",
              "        )\n",
              "        (output): XLMRobertaOutput(\n",
              "          (dense): Linear(in_features=4096, out_features=1024, bias=True)\n",
              "          (LayerNorm): LayerNorm((1024,), eps=1e-05, elementwise_affine=True)\n",
              "          (dropout): Dropout(p=0.1, inplace=False)\n",
              "        )\n",
              "      )\n",
              "    )\n",
              "  )\n",
              ")"
            ]
          },
          "metadata": {},
          "execution_count": 3
        }
      ]
    },
    {
      "cell_type": "code",
      "source": [
        "# sample data\n",
        "#Claude Sonnet 3.7 was used to generate sample data at 8:51 am on 3/27/2025\n",
        "\n",
        "query_prefix = 'query: '\n",
        "\n",
        "queries = [\n",
        "    #food queries\n",
        "    \"where can I get the best tacos?\",\n",
        "    \"what are some example pizzas i can make\",\n",
        "    \"how to make sushi\",\n",
        "    \"french cuisine recipes\",\n",
        "    \"vegetarian meal ideas\",\n",
        "]\n",
        "\n",
        "documents = [\n",
        "\n",
        "             #answers\n",
        "    \"Mexico City offers the most authentic tacos.\",\n",
        "    \"Pepperoni pizza, Margherita pizza, or even buffalo chicken pizza.\",\n",
        "    \"Sushi requires high-quality fresh fish and properly prepared rice.\",\n",
        "    \"French cuisine emphasizes quality ingredients and elegant presentation.\",\n",
        "    \"Vegetarian meals focus on plant-based proteins and seasonal vegetables.\",\n",
        "\n",
        "]\n",
        "\n",
        "query_labels =  [\"Food Query\"] * 5\n",
        "doc_labels =  [\"Food Doc\"] * 5\n",
        "\n",
        "#This code was taken from hugging face documentation https://huggingface.co/Snowflake/snowflake-arctic-embed-l-v2.0#usage\n",
        "queries_with_prefix = [f\"{query_prefix}{q}\" for q in queries]\n",
        "query_tokens = tokenizer(queries_with_prefix, padding=True, truncation=True, return_tensors='pt', max_length=8192)\n",
        "doc_tokens = tokenizer(documents, padding=True, truncation=True, return_tensors='pt', max_length=8192)"
      ],
      "metadata": {
        "id": "oQT_cc0BoUJd"
      },
      "execution_count": 5,
      "outputs": []
    },
    {
      "cell_type": "code",
      "source": [
        "with torch.no_grad():\n",
        "    query_embeddings = model(**query_tokens)[0][:, 0]\n",
        "    doc_embeddings = model(**doc_tokens)[0][:, 0]\n",
        "\n"
      ],
      "metadata": {
        "id": "gEh21N8iqlal"
      },
      "execution_count": 9,
      "outputs": []
    },
    {
      "cell_type": "code",
      "source": [
        "query_embeddings = torch.nn.functional.normalize(query_embeddings, p=2, dim=1)\n",
        "doc_embeddings = torch.nn.functional.normalize(doc_embeddings, p=2, dim=1)\n",
        "\n",
        "# Convert to numpy for visualization\n",
        "query_embeddings_np = query_embeddings.numpy()\n",
        "doc_embeddings_np = doc_embeddings.numpy()\n",
        "\n",
        "# Combine all embeddings for dimensionality reduction\n",
        "all_embeddings = np.vstack([query_embeddings_np, doc_embeddings_np])\n",
        "all_labels = query_labels + doc_labels\n"
      ],
      "metadata": {
        "id": "A5i09BqEq5_x"
      },
      "execution_count": 8,
      "outputs": []
    },
    {
      "cell_type": "code",
      "source": [
        "scores = torch.mm(query_embeddings, doc_embeddings.transpose(0, 1))\n",
        "for query, query_scores in zip(queries, scores):\n",
        "    doc_score_pairs = list(zip(documents, query_scores))\n",
        "    doc_score_pairs = sorted(doc_score_pairs, key=lambda x: x[1], reverse=True)\n",
        "    #Output passages & scores\n",
        "    print(\"Query:\", query)\n",
        "    for document, score in doc_score_pairs:\n",
        "        print(score, document)"
      ],
      "metadata": {
        "colab": {
          "base_uri": "https://localhost:8080/"
        },
        "id": "Z27SuNzMq_Pv",
        "outputId": "2ed89db2-66c4-4b65-e37c-ff4dbfeed471"
      },
      "execution_count": 10,
      "outputs": [
        {
          "output_type": "stream",
          "name": "stdout",
          "text": [
            "Query: where can I get the best tacos?\n",
            "tensor(110.9824) Mexico City offers the most authentic tacos.\n",
            "tensor(37.3459) Pepperoni pizza, Margherita pizza, or even buffalo chicken pizza.\n",
            "tensor(24.0224) Sushi requires high-quality fresh fish and properly prepared rice.\n",
            "tensor(15.3595) French cuisine emphasizes quality ingredients and elegant presentation.\n",
            "tensor(14.3837) Vegetarian meals focus on plant-based proteins and seasonal vegetables.\n",
            "Query: what are some example pizzas i can make\n",
            "tensor(108.4752) Pepperoni pizza, Margherita pizza, or even buffalo chicken pizza.\n",
            "tensor(21.3342) Sushi requires high-quality fresh fish and properly prepared rice.\n",
            "tensor(17.4892) Vegetarian meals focus on plant-based proteins and seasonal vegetables.\n",
            "tensor(7.9326) French cuisine emphasizes quality ingredients and elegant presentation.\n",
            "tensor(3.6357) Mexico City offers the most authentic tacos.\n",
            "Query: how to make sushi\n",
            "tensor(92.9981) Sushi requires high-quality fresh fish and properly prepared rice.\n",
            "tensor(11.0207) French cuisine emphasizes quality ingredients and elegant presentation.\n",
            "tensor(7.6134) Vegetarian meals focus on plant-based proteins and seasonal vegetables.\n",
            "tensor(6.9695) Pepperoni pizza, Margherita pizza, or even buffalo chicken pizza.\n",
            "tensor(-7.7884) Mexico City offers the most authentic tacos.\n",
            "Query: french cuisine recipes\n",
            "tensor(88.7963) French cuisine emphasizes quality ingredients and elegant presentation.\n",
            "tensor(36.8933) Vegetarian meals focus on plant-based proteins and seasonal vegetables.\n",
            "tensor(34.7657) Pepperoni pizza, Margherita pizza, or even buffalo chicken pizza.\n",
            "tensor(20.3607) Sushi requires high-quality fresh fish and properly prepared rice.\n",
            "tensor(0.8203) Mexico City offers the most authentic tacos.\n",
            "Query: vegetarian meal ideas\n",
            "tensor(105.1727) Vegetarian meals focus on plant-based proteins and seasonal vegetables.\n",
            "tensor(39.0670) Pepperoni pizza, Margherita pizza, or even buffalo chicken pizza.\n",
            "tensor(18.6738) French cuisine emphasizes quality ingredients and elegant presentation.\n",
            "tensor(5.5179) Mexico City offers the most authentic tacos.\n",
            "tensor(3.8303) Sushi requires high-quality fresh fish and properly prepared rice.\n"
          ]
        }
      ]
    },
    {
      "cell_type": "markdown",
      "source": [
        "###PCA"
      ],
      "metadata": {
        "id": "CBxjKvYJue9C"
      }
    },
    {
      "cell_type": "code",
      "source": [
        "#PCA\n",
        "\n",
        "pca = PCA(n_components=2)\n",
        "pca_result = pca.fit_transform(all_embeddings)"
      ],
      "metadata": {
        "id": "MOlsVHHurKUL"
      },
      "execution_count": 11,
      "outputs": []
    },
    {
      "cell_type": "code",
      "source": [
        "palette = {\n",
        "    \"Food Query\": \"blue\",\n",
        "    \"Food Doc\": \"gray\",\n",
        "}"
      ],
      "metadata": {
        "id": "lbotVzuGrg7o"
      },
      "execution_count": 17,
      "outputs": []
    },
    {
      "cell_type": "code",
      "source": [
        "for label in set(all_labels):\n",
        "    idx = [i for i, l in enumerate(all_labels) if l == label]\n",
        "    plt.scatter(pca_result[idx, 0], pca_result[idx, 1], label=label, alpha=0.7,\n",
        "                color=palette[label], s=120, edgecolors='w')\n",
        "\n",
        "#Claude Sonnet 3.7 was used to put the labels on data points for easier analysis at 9:06am 3/27/2025\n",
        "texts = []\n",
        "for i in range(len(queries)):\n",
        "    short_text = queries[i][:15] + '...' if len(queries[i]) > 15 else queries[i]\n",
        "    texts.append(plt.text(pca_result[i, 0], pca_result[i, 1], short_text,\n",
        "                         fontsize=9, ha='center', va='bottom',\n",
        "                         bbox=dict(boxstyle=\"round,pad=0.3\", fc=\"white\", ec=\"gray\", alpha=0.8)))\n",
        "\n",
        "#same generated code from above just changed for documents.\n",
        "for i in range(len(queries), len(all_labels)):\n",
        "    doc_idx = i - len(queries)\n",
        "    short_text = documents[doc_idx][:15] + '...'\n",
        "    texts.append(plt.text(pca_result[i, 0], pca_result[i, 1], short_text,\n",
        "                         fontsize=8, ha='center', va='bottom', style='italic',\n",
        "                         bbox=dict(boxstyle=\"round,pad=0.2\", fc=\"white\", ec=palette[all_labels[i]], alpha=0.8)))\n",
        "\n",
        "plt.title('PCA Projection of Snowflake Embeddings', fontsize=15)\n",
        "plt.xlabel('Principal Component 1', fontsize=12)\n",
        "plt.ylabel('Principal Component 2', fontsize=12)\n",
        "plt.legend(fontsize=10)\n",
        "plt.grid(alpha=0.3)\n",
        "plt.show()"
      ],
      "metadata": {
        "colab": {
          "base_uri": "https://localhost:8080/",
          "height": 478
        },
        "id": "3hwHqyUArIrB",
        "outputId": "b82d2805-ff43-40eb-c812-673619f9f005"
      },
      "execution_count": 22,
      "outputs": [
        {
          "output_type": "display_data",
          "data": {
            "text/plain": [
              "<Figure size 640x480 with 1 Axes>"
            ],
            "image/png": "[encoded data removed]"
          },
          "metadata": {}
        }
      ]
    },
    {
      "cell_type": "markdown",
      "source": [
        "### PCA Discussion\n",
        "\n",
        "The Principal Component Analysis visualization shows the relationship between the queries and the database information. We find that the tacos, vegetarian, and sushi query/db pairing are closely related. However, the french cuisine and pizza pariring may not be as strong. French cuisine is closer to pizza examples then french cuisine. This may be due to the french and italian food are probably the closest pairing I have within the pairings so this makes some sense. I think it is interesting that tacos and sushi anre the most separated from the rest of the data."
      ],
      "metadata": {
        "id": "lgK8kDOTv71f"
      }
    },
    {
      "cell_type": "markdown",
      "source": [
        "### tSNE"
      ],
      "metadata": {
        "id": "pGMItZ9Ouc_y"
      }
    },
    {
      "cell_type": "code",
      "source": [
        "# tsne\n",
        "tsne = TSNE(n_components=2, perplexity=2, max_iter=1000, random_state=42)\n",
        "tsne_result = tsne.fit_transform(all_embeddings)"
      ],
      "metadata": {
        "id": "BTJZj6twt0w4"
      },
      "execution_count": 36,
      "outputs": []
    },
    {
      "cell_type": "code",
      "source": [
        "for label in set(all_labels):\n",
        "    idx = [i for i, l in enumerate(all_labels) if l == label]\n",
        "    plt.scatter(tsne_result[idx, 0], tsne_result[idx, 1], label=label, alpha=0.7,\n",
        "                color=palette[label], s=100, edgecolors='w')\n",
        "\n",
        "#same generated code from above just changed for tsne.\n",
        "texts = []\n",
        "for i in range(len(queries)):\n",
        "    short_text = queries[i][:15] + '...' if len(queries[i]) > 15 else queries[i]\n",
        "    texts.append(plt.text(tsne_result[i, 0], tsne_result[i, 1], short_text,\n",
        "                         fontsize=9, ha='center', va='bottom',\n",
        "                         bbox=dict(boxstyle=\"round,pad=0.3\", fc=\"white\", ec=\"gray\", alpha=0.8)))\n",
        "\n",
        "#same generated code from above just changed for tsne.\n",
        "for i in range(len(queries), len(all_labels)):\n",
        "    doc_idx = i - len(queries)\n",
        "    short_text = documents[doc_idx][:15] + '...'\n",
        "    texts.append(plt.text(tsne_result[i, 0],tsne_result[i, 1], short_text,\n",
        "                         fontsize=8, ha='center', va='bottom', style='italic',\n",
        "                         bbox=dict(boxstyle=\"round,pad=0.2\", fc=\"white\", ec=palette[all_labels[i]], alpha=0.8)))\n",
        "\n",
        "plt.title('t-SNE Projection of Snowflake Embeddings', fontsize=15)\n",
        "plt.xlabel('t-SNE Component 1', fontsize=12)\n",
        "plt.ylabel('t-SNE Component 2', fontsize=12)\n",
        "plt.legend(fontsize=10)\n",
        "plt.grid(alpha=0.3)"
      ],
      "metadata": {
        "colab": {
          "base_uri": "https://localhost:8080/",
          "height": 478
        },
        "id": "fkLCOlJot9E4",
        "outputId": "73f62f05-02a8-4640-f472-6d3b1476d7c1"
      },
      "execution_count": 37,
      "outputs": [
        {
          "output_type": "display_data",
          "data": {
            "text/plain": [
              "<Figure size 640x480 with 1 Axes>"
            ],
            "image/png": "[encoded data removed]"
          },
          "metadata": {}
        }
      ]
    },
    {
      "cell_type": "markdown",
      "source": [
        "### t-SNE discussion\n",
        "\n",
        "t-SNE shows significant better pairings and separation then PCA does. This may be due to the additional t-SNE flags we used like perplexity. The low perplexity value means it will not look past many points when plotting on the components. There is no confusion between queries and document pairings. They also show good separation between the pairings, that is, they are not similar and that is shown in the plot."
      ],
      "metadata": {
        "id": "h5kZIBANw5ab"
      }
    },
    {
      "cell_type": "markdown",
      "source": [
        "### UMAP"
      ],
      "metadata": {
        "id": "kkfweZaEujYx"
      }
    },
    {
      "cell_type": "code",
      "source": [
        "umap_reducer = UMAP(n_components=2, n_neighbors=2, min_dist=0.1, random_state=42)\n",
        "umap_result = umap_reducer.fit_transform(all_embeddings)"
      ],
      "metadata": {
        "colab": {
          "base_uri": "https://localhost:8080/"
        },
        "id": "TEOX7-DFvb9j",
        "outputId": "5c40243c-d135-43a7-cb52-cfab1954024f"
      },
      "execution_count": 33,
      "outputs": [
        {
          "output_type": "stream",
          "name": "stderr",
          "text": [
            "/usr/local/lib/python3.11/dist-packages/sklearn/utils/deprecation.py:151: FutureWarning: 'force_all_finite' was renamed to 'ensure_all_finite' in 1.6 and will be removed in 1.8.\n",
            "  warnings.warn(\n",
            "/usr/local/lib/python3.11/dist-packages/umap/umap_.py:1952: UserWarning: n_jobs value 1 overridden to 1 by setting random_state. Use no seed for parallelism.\n",
            "  warn(\n"
          ]
        }
      ]
    },
    {
      "cell_type": "code",
      "source": [
        "for label in set(all_labels):\n",
        "    idx = [i for i, l in enumerate(all_labels) if l == label]\n",
        "    plt.scatter(umap_result[idx, 0], umap_result[idx, 1], label=label, alpha=0.7,\n",
        "                color=palette[label], s=100, edgecolors='w')\n",
        "\n",
        "#same generated code from above just changed for tsne.\n",
        "texts = []\n",
        "for i in range(len(queries)):\n",
        "    short_text = queries[i][:15] + '...' if len(queries[i]) > 15 else queries[i]\n",
        "    texts.append(plt.text(umap_result[i, 0], umap_result[i, 1], short_text,\n",
        "                         fontsize=9, ha='center', va='bottom',\n",
        "                         bbox=dict(boxstyle=\"round,pad=0.3\", fc=\"white\", ec=\"gray\", alpha=0.8)))\n",
        "\n",
        "#same generated code from above just changed for tsne.\n",
        "for i in range(len(queries), len(all_labels)):\n",
        "    doc_idx = i - len(queries)\n",
        "    short_text = documents[doc_idx][:15] + '...'\n",
        "    texts.append(plt.text(umap_result[i, 0],umap_result[i, 1], short_text,\n",
        "                         fontsize=8, ha='center', va='bottom', style='italic',\n",
        "                         bbox=dict(boxstyle=\"round,pad=0.2\", fc=\"white\", ec=palette[all_labels[i]], alpha=0.8)))\n",
        "\n",
        "plt.title('UMAP Projection of Snowflake Embeddings', fontsize=15)\n",
        "plt.xlabel('UMAP Component 1', fontsize=12)\n",
        "plt.ylabel('UMAP Component 2', fontsize=12)\n",
        "plt.legend(fontsize=10)\n",
        "plt.grid(alpha=0.3)"
      ],
      "metadata": {
        "colab": {
          "base_uri": "https://localhost:8080/",
          "height": 478
        },
        "id": "M-zU0h-6uR51",
        "outputId": "e35f19c7-bd18-4e5b-aa2d-f03b83b9517d"
      },
      "execution_count": 34,
      "outputs": [
        {
          "output_type": "display_data",
          "data": {
            "text/plain": [
              "<Figure size 640x480 with 1 Axes>"
            ],
            "image/png": "[encoded data removed]"
          },
          "metadata": {}
        }
      ]
    },
    {
      "cell_type": "markdown",
      "source": [
        "### UMAP discussion\n",
        "\n",
        "The query and document pairing is the closest it has been with UMAP. I believe this is due to the flag n_neighbors. The n_neighbors flag means its only searching for 2 points which are the closest giving the points less options for similarity. I did this to keep equality between UMAP and t-SNE. UMAP most closely patches the queries to documents."
      ],
      "metadata": {
        "id": "rrPXHWXAxYCG"
      }
    },
    {
      "cell_type": "markdown",
      "source": [
        "### Overall discussion\n",
        "\n",
        "UMAP and t-SNE perform signficantly better, than PCA, with UMAP being the best. However, UMAP and t-SNE are harder to explain and understand to stakeholders than PCA. PCA is similar to a regression framework making it easier to explain and understand how it gets the results. UMAP and t-SNE are more 'you understand at face value, but do you really understand' style of tools. UMAP and t-SNE should be used for more complex data and models specifically when we reduce dimensions or are dealing with large amounts of classes as they can have more specificity for the data types."
      ],
      "metadata": {
        "id": "U08AckPex9vh"
      }
    },
    {
      "cell_type": "markdown",
      "source": [
        "### Sources\n",
        "\n",
        "Claude Sonnet 3.7 was used to generate sample data and plot the different labels for display. This is cited where it occurs.\n",
        "\n",
        "https://huggingface.co/Snowflake/snowflake-arctic-embed-l-v2.0#usage\n",
        "\n",
        "https://huggingface.co/spaces/mteb/leaderboard\n"
      ],
      "metadata": {
        "id": "9otn7lqvzGXs"
      }
    }
  ]
}